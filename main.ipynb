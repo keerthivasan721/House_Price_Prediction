{
 "cells": [
  {
   "cell_type": "markdown",
   "metadata": {},
   "source": [
    "### LinearRegression"
   ]
  },
  {
   "cell_type": "code",
   "execution_count": 2,
   "metadata": {},
   "outputs": [],
   "source": [
    "# importing Dataset\n",
    "\n",
    "from sklearn.linear_model import LinearRegression,SGDRegressor\n",
    "import numpy as np\n",
    "import pandas as pd\n",
    "from statsmodels.api import OLS\n",
    "from scipy.stats import shapiro,anderson,kstest,pearsonr\n",
    "import seaborn as sns\n",
    "import matplotlib.pyplot as plt\n",
    "import warnings\n",
    "from sklearn.model_selection import train_test_split\n",
    "from  statsmodels.stats.outliers_influence import  variance_inflation_factor\n",
    "from sklearn.preprocessing import MinMaxScaler,power_transform\n",
    "from sklearn.metrics import mean_squared_error,r2_score\n",
    "import statsmodels as sm"
   ]
  },
  {
   "cell_type": "code",
   "execution_count": 4,
   "metadata": {},
   "outputs": [],
   "source": [
    "#  importing dataset\n",
    "df=pd.read_csv(r\"C:\\Users\\91959\\Project Folder\\House_Price_Prediction\\HousingData.csv\")"
   ]
  },
  {
   "cell_type": "code",
   "execution_count": 5,
   "metadata": {},
   "outputs": [
    {
     "name": "stdout",
     "output_type": "stream",
     "text": [
      "<class 'pandas.core.frame.DataFrame'>\n",
      "RangeIndex: 506 entries, 0 to 505\n",
      "Data columns (total 14 columns):\n",
      " #   Column   Non-Null Count  Dtype  \n",
      "---  ------   --------------  -----  \n",
      " 0   CRIM     486 non-null    float64\n",
      " 1   ZN       486 non-null    float64\n",
      " 2   INDUS    486 non-null    float64\n",
      " 3   CHAS     486 non-null    float64\n",
      " 4   NOX      506 non-null    float64\n",
      " 5   RM       506 non-null    float64\n",
      " 6   AGE      486 non-null    float64\n",
      " 7   DIS      506 non-null    float64\n",
      " 8   RAD      506 non-null    int64  \n",
      " 9   TAX      506 non-null    int64  \n",
      " 10  PTRATIO  506 non-null    float64\n",
      " 11  B        506 non-null    float64\n",
      " 12  LSTAT    486 non-null    float64\n",
      " 13  MEDV     506 non-null    float64\n",
      "dtypes: float64(12), int64(2)\n",
      "memory usage: 55.5 KB\n"
     ]
    }
   ],
   "source": [
    "df.info()\n",
    "\n",
    "# All the columns are intergers and floats. Hence they are continuous."
   ]
  },
  {
   "cell_type": "code",
   "execution_count": 21,
   "metadata": {},
   "outputs": [],
   "source": [
    "x = df.iloc[:,:-1]"
   ]
  },
  {
   "cell_type": "code",
   "execution_count": 24,
   "metadata": {},
   "outputs": [],
   "source": [
    "y = df.iloc[:,-1]"
   ]
  },
  {
   "cell_type": "markdown",
   "metadata": {},
   "source": [
    "# Linearity test"
   ]
  },
  {
   "cell_type": "code",
   "execution_count": 97,
   "metadata": {},
   "outputs": [],
   "source": [
    "def test_linearity(dff):\n",
    "    new_df=pd.DataFrame(columns=[\"Feature\",\"Target\",\"pearson_r_value\",\"pvalue\",\"significance\"])\n",
    "    for i in dff.iloc[:,:]:\n",
    "        for j in dff.iloc[:,:]:\n",
    "            p=pearsonr(dff[i],dff[j])\n",
    "            \n",
    "            if p[1]>0.05:\n",
    "                new_df=new_df.append({\"Feature\":i,\"Target\":j,\"pearson_r_value\":p[0],\"pvalue\":p[1],\"significance\":\"Not significant\"},ignore_index=True)\n",
    "            elif p[1]<0.05:\n",
    "                 new_df=new_df.append({\"Feature\":i,\"Target\":j,\"pearson_r_value\":p[0],\"pvalue\":p[1],\"significance\":\"significant\"},ignore_index=True)\n",
    "\n",
    "\n",
    "    return new_df"
   ]
  },
  {
   "cell_type": "code",
   "execution_count": 102,
   "metadata": {},
   "outputs": [
    {
     "data": {
      "text/html": [
       "<div>\n",
       "<style scoped>\n",
       "    .dataframe tbody tr th:only-of-type {\n",
       "        vertical-align: middle;\n",
       "    }\n",
       "\n",
       "    .dataframe tbody tr th {\n",
       "        vertical-align: top;\n",
       "    }\n",
       "\n",
       "    .dataframe thead th {\n",
       "        text-align: right;\n",
       "    }\n",
       "</style>\n",
       "<table border=\"1\" class=\"dataframe\">\n",
       "  <thead>\n",
       "    <tr style=\"text-align: right;\">\n",
       "      <th></th>\n",
       "      <th>Feature</th>\n",
       "      <th>Target</th>\n",
       "      <th>pearson_r_value</th>\n",
       "      <th>pvalue</th>\n",
       "      <th>significance</th>\n",
       "    </tr>\n",
       "  </thead>\n",
       "  <tbody>\n",
       "    <tr>\n",
       "      <th>13</th>\n",
       "      <td>crim</td>\n",
       "      <td>medv</td>\n",
       "      <td>-0.482030</td>\n",
       "      <td>1.737141e-28</td>\n",
       "      <td>significant</td>\n",
       "    </tr>\n",
       "    <tr>\n",
       "      <th>27</th>\n",
       "      <td>zn</td>\n",
       "      <td>medv</td>\n",
       "      <td>0.436177</td>\n",
       "      <td>4.595313e-23</td>\n",
       "      <td>significant</td>\n",
       "    </tr>\n",
       "    <tr>\n",
       "      <th>41</th>\n",
       "      <td>indus</td>\n",
       "      <td>medv</td>\n",
       "      <td>-0.612220</td>\n",
       "      <td>2.846305e-49</td>\n",
       "      <td>significant</td>\n",
       "    </tr>\n",
       "    <tr>\n",
       "      <th>55</th>\n",
       "      <td>chas</td>\n",
       "      <td>medv</td>\n",
       "      <td>0.097053</td>\n",
       "      <td>3.622310e-02</td>\n",
       "      <td>significant</td>\n",
       "    </tr>\n",
       "    <tr>\n",
       "      <th>69</th>\n",
       "      <td>nox</td>\n",
       "      <td>medv</td>\n",
       "      <td>-0.569014</td>\n",
       "      <td>2.467148e-41</td>\n",
       "      <td>significant</td>\n",
       "    </tr>\n",
       "    <tr>\n",
       "      <th>83</th>\n",
       "      <td>rm</td>\n",
       "      <td>medv</td>\n",
       "      <td>0.568940</td>\n",
       "      <td>2.540259e-41</td>\n",
       "      <td>significant</td>\n",
       "    </tr>\n",
       "    <tr>\n",
       "      <th>97</th>\n",
       "      <td>age</td>\n",
       "      <td>medv</td>\n",
       "      <td>-0.557098</td>\n",
       "      <td>2.404750e-39</td>\n",
       "      <td>significant</td>\n",
       "    </tr>\n",
       "    <tr>\n",
       "      <th>111</th>\n",
       "      <td>dis</td>\n",
       "      <td>medv</td>\n",
       "      <td>0.439844</td>\n",
       "      <td>1.812338e-23</td>\n",
       "      <td>significant</td>\n",
       "    </tr>\n",
       "    <tr>\n",
       "      <th>125</th>\n",
       "      <td>rad</td>\n",
       "      <td>medv</td>\n",
       "      <td>-0.504338</td>\n",
       "      <td>1.950940e-31</td>\n",
       "      <td>significant</td>\n",
       "    </tr>\n",
       "    <tr>\n",
       "      <th>139</th>\n",
       "      <td>tax</td>\n",
       "      <td>medv</td>\n",
       "      <td>-0.590236</td>\n",
       "      <td>4.391606e-45</td>\n",
       "      <td>significant</td>\n",
       "    </tr>\n",
       "    <tr>\n",
       "      <th>153</th>\n",
       "      <td>ptratio</td>\n",
       "      <td>medv</td>\n",
       "      <td>-0.488734</td>\n",
       "      <td>2.377196e-29</td>\n",
       "      <td>significant</td>\n",
       "    </tr>\n",
       "    <tr>\n",
       "      <th>167</th>\n",
       "      <td>black</td>\n",
       "      <td>medv</td>\n",
       "      <td>0.408316</td>\n",
       "      <td>3.768440e-20</td>\n",
       "      <td>significant</td>\n",
       "    </tr>\n",
       "    <tr>\n",
       "      <th>181</th>\n",
       "      <td>lstat</td>\n",
       "      <td>medv</td>\n",
       "      <td>-0.772285</td>\n",
       "      <td>1.797265e-93</td>\n",
       "      <td>significant</td>\n",
       "    </tr>\n",
       "    <tr>\n",
       "      <th>195</th>\n",
       "      <td>medv</td>\n",
       "      <td>medv</td>\n",
       "      <td>1.000000</td>\n",
       "      <td>0.000000e+00</td>\n",
       "      <td>significant</td>\n",
       "    </tr>\n",
       "  </tbody>\n",
       "</table>\n",
       "</div>"
      ],
      "text/plain": [
       "     Feature Target  pearson_r_value        pvalue significance\n",
       "13      crim   medv        -0.482030  1.737141e-28  significant\n",
       "27        zn   medv         0.436177  4.595313e-23  significant\n",
       "41     indus   medv        -0.612220  2.846305e-49  significant\n",
       "55      chas   medv         0.097053  3.622310e-02  significant\n",
       "69       nox   medv        -0.569014  2.467148e-41  significant\n",
       "83        rm   medv         0.568940  2.540259e-41  significant\n",
       "97       age   medv        -0.557098  2.404750e-39  significant\n",
       "111      dis   medv         0.439844  1.812338e-23  significant\n",
       "125      rad   medv        -0.504338  1.950940e-31  significant\n",
       "139      tax   medv        -0.590236  4.391606e-45  significant\n",
       "153  ptratio   medv        -0.488734  2.377196e-29  significant\n",
       "167    black   medv         0.408316  3.768440e-20  significant\n",
       "181    lstat   medv        -0.772285  1.797265e-93  significant\n",
       "195     medv   medv         1.000000  0.000000e+00  significant"
      ]
     },
     "execution_count": 102,
     "metadata": {},
     "output_type": "execute_result"
    }
   ],
   "source": [
    "# Linearity check\n",
    "\n",
    "lin=test_linearity(df)\n",
    "lin.loc[lin[\"Target\"]==\"medv\"]\n",
    "\n",
    "\n",
    "#  All Independent features are in Linear Relationship with Dependent features "
   ]
  },
  {
   "cell_type": "markdown",
   "metadata": {},
   "source": [
    "# Normality test"
   ]
  },
  {
   "cell_type": "code",
   "execution_count": 104,
   "metadata": {},
   "outputs": [],
   "source": [
    "def test_normality(dff):\n",
    "    \n",
    "    sh_df=pd.DataFrame(columns=[\"feature\",\"pvalue\",\"normality\"])\n",
    "    for i in dff.columns:\n",
    "        sh=shapiro(dff[i])\n",
    "        if sh[1]>0.05:\n",
    "            sh_df=sh_df.append({\"feature\":i,\"pvalue\":sh[1],\"normality\":\"Normally Distributed\"},ignore_index=True)\n",
    "        else:\n",
    "            sh_df=sh_df.append({\"feature\":i,\"pvalue\":sh[1],\"normality\":\"Not Normally Distributed\"},ignore_index=True)\n",
    "    return sh_df"
   ]
  },
  {
   "cell_type": "code",
   "execution_count": 106,
   "metadata": {},
   "outputs": [
    {
     "data": {
      "text/html": [
       "<div>\n",
       "<style scoped>\n",
       "    .dataframe tbody tr th:only-of-type {\n",
       "        vertical-align: middle;\n",
       "    }\n",
       "\n",
       "    .dataframe tbody tr th {\n",
       "        vertical-align: top;\n",
       "    }\n",
       "\n",
       "    .dataframe thead th {\n",
       "        text-align: right;\n",
       "    }\n",
       "</style>\n",
       "<table border=\"1\" class=\"dataframe\">\n",
       "  <thead>\n",
       "    <tr style=\"text-align: right;\">\n",
       "      <th></th>\n",
       "      <th>feature</th>\n",
       "      <th>pvalue</th>\n",
       "      <th>normality</th>\n",
       "    </tr>\n",
       "  </thead>\n",
       "  <tbody>\n",
       "    <tr>\n",
       "      <th>0</th>\n",
       "      <td>medv</td>\n",
       "      <td>0.000197</td>\n",
       "      <td>Not Normally Distributed</td>\n",
       "    </tr>\n",
       "  </tbody>\n",
       "</table>\n",
       "</div>"
      ],
      "text/plain": [
       "  feature    pvalue                 normality\n",
       "0    medv  0.000197  Not Normally Distributed"
      ]
     },
     "execution_count": 106,
     "metadata": {},
     "output_type": "execute_result"
    }
   ],
   "source": [
    "#  Test Normality of target variable\n",
    "\n",
    "test_normality(df[[\"medv\"]])"
   ]
  },
  {
   "cell_type": "code",
   "execution_count": 108,
   "metadata": {},
   "outputs": [
    {
     "data": {
      "text/plain": [
       "<AxesSubplot:xlabel='medv', ylabel='Density'>"
      ]
     },
     "execution_count": 108,
     "metadata": {},
     "output_type": "execute_result"
    },
    {
     "data": {
      "image/png": "[encoded data removed]",
      "text/plain": [
       "<Figure size 640x480 with 1 Axes>"
      ]
     },
     "metadata": {},
     "output_type": "display_data"
    }
   ],
   "source": [
    "sns.kdeplot(\"medv\",data=df)"
   ]
  },
  {
   "cell_type": "markdown",
   "metadata": {},
   "source": [
    "#  Test for Multi collinearity"
   ]
  },
  {
   "cell_type": "code",
   "execution_count": 129,
   "metadata": {},
   "outputs": [
    {
     "name": "stdout",
     "output_type": "stream",
     "text": [
      "    feature        vif\n",
      "0      crim   2.185331\n",
      "1        zn   2.894044\n",
      "2     indus  14.838689\n",
      "3      chas   1.139251\n",
      "4       nox  73.230169\n",
      "5        rm  99.059706\n",
      "6       age  21.581539\n",
      "7       dis  15.601800\n",
      "8       rad  15.029579\n",
      "9       tax  60.625440\n",
      "10  ptratio  95.007589\n",
      "11    black  18.904966\n",
      "12    lstat  12.207987\n"
     ]
    }
   ],
   "source": [
    "#  Test for Multi collinearity\n",
    "\n",
    "yy=df.iloc[:,:-1]\n",
    "mult=pd.DataFrame(columns=[\"feature\",\"vif\"])\n",
    "\n",
    "\n",
    "\n",
    "# for i in range(len(yy.columns)):\n",
    "#     print(list(yy.columns)[i],variance_inflation_factor(yy,i))\n",
    "\n",
    "\n",
    "\n",
    "for i in range(len(yy.columns)):\n",
    "    # print(list(yy.columns)[i],variance_inflation_factor(yy,i))\n",
    "    mult=mult.append({\"feature\":list(yy.columns)[i],\"vif\":variance_inflation_factor(yy,i)},ignore_index=True)\n",
    "\n",
    "print(mult)"
   ]
  },
  {
   "cell_type": "code",
   "execution_count": 351,
   "metadata": {},
   "outputs": [],
   "source": [
    "x=df.iloc[:,:-1]\n",
    "y=df.iloc[:,[-1]]\n",
    "\n"
   ]
  },
  {
   "cell_type": "code",
   "execution_count": 26,
   "metadata": {},
   "outputs": [
    {
     "data": {
      "text/html": [
       "<div>\n",
       "<style scoped>\n",
       "    .dataframe tbody tr th:only-of-type {\n",
       "        vertical-align: middle;\n",
       "    }\n",
       "\n",
       "    .dataframe tbody tr th {\n",
       "        vertical-align: top;\n",
       "    }\n",
       "\n",
       "    .dataframe thead th {\n",
       "        text-align: right;\n",
       "    }\n",
       "</style>\n",
       "<table border=\"1\" class=\"dataframe\">\n",
       "  <thead>\n",
       "    <tr style=\"text-align: right;\">\n",
       "      <th></th>\n",
       "      <th>CRIM</th>\n",
       "      <th>ZN</th>\n",
       "      <th>INDUS</th>\n",
       "      <th>CHAS</th>\n",
       "      <th>NOX</th>\n",
       "      <th>RM</th>\n",
       "      <th>AGE</th>\n",
       "      <th>DIS</th>\n",
       "      <th>RAD</th>\n",
       "      <th>TAX</th>\n",
       "      <th>PTRATIO</th>\n",
       "      <th>B</th>\n",
       "      <th>LSTAT</th>\n",
       "    </tr>\n",
       "  </thead>\n",
       "  <tbody>\n",
       "    <tr>\n",
       "      <th>0</th>\n",
       "      <td>0.00632</td>\n",
       "      <td>18.0</td>\n",
       "      <td>2.31</td>\n",
       "      <td>0.0</td>\n",
       "      <td>0.538</td>\n",
       "      <td>6.575</td>\n",
       "      <td>65.2</td>\n",
       "      <td>4.0900</td>\n",
       "      <td>1</td>\n",
       "      <td>296</td>\n",
       "      <td>15.3</td>\n",
       "      <td>396.90</td>\n",
       "      <td>4.98</td>\n",
       "    </tr>\n",
       "    <tr>\n",
       "      <th>1</th>\n",
       "      <td>0.02731</td>\n",
       "      <td>0.0</td>\n",
       "      <td>7.07</td>\n",
       "      <td>0.0</td>\n",
       "      <td>0.469</td>\n",
       "      <td>6.421</td>\n",
       "      <td>78.9</td>\n",
       "      <td>4.9671</td>\n",
       "      <td>2</td>\n",
       "      <td>242</td>\n",
       "      <td>17.8</td>\n",
       "      <td>396.90</td>\n",
       "      <td>9.14</td>\n",
       "    </tr>\n",
       "    <tr>\n",
       "      <th>2</th>\n",
       "      <td>0.02729</td>\n",
       "      <td>0.0</td>\n",
       "      <td>7.07</td>\n",
       "      <td>0.0</td>\n",
       "      <td>0.469</td>\n",
       "      <td>7.185</td>\n",
       "      <td>61.1</td>\n",
       "      <td>4.9671</td>\n",
       "      <td>2</td>\n",
       "      <td>242</td>\n",
       "      <td>17.8</td>\n",
       "      <td>392.83</td>\n",
       "      <td>4.03</td>\n",
       "    </tr>\n",
       "    <tr>\n",
       "      <th>3</th>\n",
       "      <td>0.03237</td>\n",
       "      <td>0.0</td>\n",
       "      <td>2.18</td>\n",
       "      <td>0.0</td>\n",
       "      <td>0.458</td>\n",
       "      <td>6.998</td>\n",
       "      <td>45.8</td>\n",
       "      <td>6.0622</td>\n",
       "      <td>3</td>\n",
       "      <td>222</td>\n",
       "      <td>18.7</td>\n",
       "      <td>394.63</td>\n",
       "      <td>2.94</td>\n",
       "    </tr>\n",
       "    <tr>\n",
       "      <th>4</th>\n",
       "      <td>0.06905</td>\n",
       "      <td>0.0</td>\n",
       "      <td>2.18</td>\n",
       "      <td>0.0</td>\n",
       "      <td>0.458</td>\n",
       "      <td>7.147</td>\n",
       "      <td>54.2</td>\n",
       "      <td>6.0622</td>\n",
       "      <td>3</td>\n",
       "      <td>222</td>\n",
       "      <td>18.7</td>\n",
       "      <td>396.90</td>\n",
       "      <td>NaN</td>\n",
       "    </tr>\n",
       "    <tr>\n",
       "      <th>...</th>\n",
       "      <td>...</td>\n",
       "      <td>...</td>\n",
       "      <td>...</td>\n",
       "      <td>...</td>\n",
       "      <td>...</td>\n",
       "      <td>...</td>\n",
       "      <td>...</td>\n",
       "      <td>...</td>\n",
       "      <td>...</td>\n",
       "      <td>...</td>\n",
       "      <td>...</td>\n",
       "      <td>...</td>\n",
       "      <td>...</td>\n",
       "    </tr>\n",
       "    <tr>\n",
       "      <th>501</th>\n",
       "      <td>0.06263</td>\n",
       "      <td>0.0</td>\n",
       "      <td>11.93</td>\n",
       "      <td>0.0</td>\n",
       "      <td>0.573</td>\n",
       "      <td>6.593</td>\n",
       "      <td>69.1</td>\n",
       "      <td>2.4786</td>\n",
       "      <td>1</td>\n",
       "      <td>273</td>\n",
       "      <td>21.0</td>\n",
       "      <td>391.99</td>\n",
       "      <td>NaN</td>\n",
       "    </tr>\n",
       "    <tr>\n",
       "      <th>502</th>\n",
       "      <td>0.04527</td>\n",
       "      <td>0.0</td>\n",
       "      <td>11.93</td>\n",
       "      <td>0.0</td>\n",
       "      <td>0.573</td>\n",
       "      <td>6.120</td>\n",
       "      <td>76.7</td>\n",
       "      <td>2.2875</td>\n",
       "      <td>1</td>\n",
       "      <td>273</td>\n",
       "      <td>21.0</td>\n",
       "      <td>396.90</td>\n",
       "      <td>9.08</td>\n",
       "    </tr>\n",
       "    <tr>\n",
       "      <th>503</th>\n",
       "      <td>0.06076</td>\n",
       "      <td>0.0</td>\n",
       "      <td>11.93</td>\n",
       "      <td>0.0</td>\n",
       "      <td>0.573</td>\n",
       "      <td>6.976</td>\n",
       "      <td>91.0</td>\n",
       "      <td>2.1675</td>\n",
       "      <td>1</td>\n",
       "      <td>273</td>\n",
       "      <td>21.0</td>\n",
       "      <td>396.90</td>\n",
       "      <td>5.64</td>\n",
       "    </tr>\n",
       "    <tr>\n",
       "      <th>504</th>\n",
       "      <td>0.10959</td>\n",
       "      <td>0.0</td>\n",
       "      <td>11.93</td>\n",
       "      <td>0.0</td>\n",
       "      <td>0.573</td>\n",
       "      <td>6.794</td>\n",
       "      <td>89.3</td>\n",
       "      <td>2.3889</td>\n",
       "      <td>1</td>\n",
       "      <td>273</td>\n",
       "      <td>21.0</td>\n",
       "      <td>393.45</td>\n",
       "      <td>6.48</td>\n",
       "    </tr>\n",
       "    <tr>\n",
       "      <th>505</th>\n",
       "      <td>0.04741</td>\n",
       "      <td>0.0</td>\n",
       "      <td>11.93</td>\n",
       "      <td>0.0</td>\n",
       "      <td>0.573</td>\n",
       "      <td>6.030</td>\n",
       "      <td>NaN</td>\n",
       "      <td>2.5050</td>\n",
       "      <td>1</td>\n",
       "      <td>273</td>\n",
       "      <td>21.0</td>\n",
       "      <td>396.90</td>\n",
       "      <td>7.88</td>\n",
       "    </tr>\n",
       "  </tbody>\n",
       "</table>\n",
       "<p>506 rows × 13 columns</p>\n",
       "</div>"
      ],
      "text/plain": [
       "        CRIM    ZN  INDUS  CHAS    NOX     RM   AGE     DIS  RAD  TAX  \\\n",
       "0    0.00632  18.0   2.31   0.0  0.538  6.575  65.2  4.0900    1  296   \n",
       "1    0.02731   0.0   7.07   0.0  0.469  6.421  78.9  4.9671    2  242   \n",
       "2    0.02729   0.0   7.07   0.0  0.469  7.185  61.1  4.9671    2  242   \n",
       "3    0.03237   0.0   2.18   0.0  0.458  6.998  45.8  6.0622    3  222   \n",
       "4    0.06905   0.0   2.18   0.0  0.458  7.147  54.2  6.0622    3  222   \n",
       "..       ...   ...    ...   ...    ...    ...   ...     ...  ...  ...   \n",
       "501  0.06263   0.0  11.93   0.0  0.573  6.593  69.1  2.4786    1  273   \n",
       "502  0.04527   0.0  11.93   0.0  0.573  6.120  76.7  2.2875    1  273   \n",
       "503  0.06076   0.0  11.93   0.0  0.573  6.976  91.0  2.1675    1  273   \n",
       "504  0.10959   0.0  11.93   0.0  0.573  6.794  89.3  2.3889    1  273   \n",
       "505  0.04741   0.0  11.93   0.0  0.573  6.030   NaN  2.5050    1  273   \n",
       "\n",
       "     PTRATIO       B  LSTAT  \n",
       "0       15.3  396.90   4.98  \n",
       "1       17.8  396.90   9.14  \n",
       "2       17.8  392.83   4.03  \n",
       "3       18.7  394.63   2.94  \n",
       "4       18.7  396.90    NaN  \n",
       "..       ...     ...    ...  \n",
       "501     21.0  391.99    NaN  \n",
       "502     21.0  396.90   9.08  \n",
       "503     21.0  396.90   5.64  \n",
       "504     21.0  393.45   6.48  \n",
       "505     21.0  396.90   7.88  \n",
       "\n",
       "[506 rows x 13 columns]"
      ]
     },
     "execution_count": 26,
     "metadata": {},
     "output_type": "execute_result"
    }
   ],
   "source": [
    "x"
   ]
  },
  {
   "cell_type": "code",
   "execution_count": 343,
   "metadata": {},
   "outputs": [],
   "source": [
    "# x=sm.api.add_constant(x)"
   ]
  },
  {
   "cell_type": "code",
   "execution_count": 352,
   "metadata": {},
   "outputs": [],
   "source": [
    "#  Split train and test\n",
    "\n",
    "xtrain,xtest,ytrain,ytest=train_test_split(x,y,test_size=0.3,random_state=23)\n"
   ]
  },
  {
   "cell_type": "code",
   "execution_count": 353,
   "metadata": {},
   "outputs": [
    {
     "data": {
      "text/html": [
       "<div>\n",
       "<style scoped>\n",
       "    .dataframe tbody tr th:only-of-type {\n",
       "        vertical-align: middle;\n",
       "    }\n",
       "\n",
       "    .dataframe tbody tr th {\n",
       "        vertical-align: top;\n",
       "    }\n",
       "\n",
       "    .dataframe thead th {\n",
       "        text-align: right;\n",
       "    }\n",
       "</style>\n",
       "<table border=\"1\" class=\"dataframe\">\n",
       "  <thead>\n",
       "    <tr style=\"text-align: right;\">\n",
       "      <th></th>\n",
       "      <th>feature</th>\n",
       "      <th>pvalue</th>\n",
       "      <th>normality</th>\n",
       "    </tr>\n",
       "  </thead>\n",
       "  <tbody>\n",
       "    <tr>\n",
       "      <th>0</th>\n",
       "      <td>crim</td>\n",
       "      <td>5.363994e-35</td>\n",
       "      <td>Not Normally Distributed</td>\n",
       "    </tr>\n",
       "    <tr>\n",
       "      <th>1</th>\n",
       "      <td>zn</td>\n",
       "      <td>6.679295e-33</td>\n",
       "      <td>Not Normally Distributed</td>\n",
       "    </tr>\n",
       "    <tr>\n",
       "      <th>2</th>\n",
       "      <td>indus</td>\n",
       "      <td>2.385651e-16</td>\n",
       "      <td>Not Normally Distributed</td>\n",
       "    </tr>\n",
       "    <tr>\n",
       "      <th>3</th>\n",
       "      <td>chas</td>\n",
       "      <td>1.757129e-39</td>\n",
       "      <td>Not Normally Distributed</td>\n",
       "    </tr>\n",
       "    <tr>\n",
       "      <th>4</th>\n",
       "      <td>nox</td>\n",
       "      <td>1.645634e-13</td>\n",
       "      <td>Not Normally Distributed</td>\n",
       "    </tr>\n",
       "    <tr>\n",
       "      <th>5</th>\n",
       "      <td>rm</td>\n",
       "      <td>2.342833e-08</td>\n",
       "      <td>Not Normally Distributed</td>\n",
       "    </tr>\n",
       "    <tr>\n",
       "      <th>6</th>\n",
       "      <td>age</td>\n",
       "      <td>1.667852e-17</td>\n",
       "      <td>Not Normally Distributed</td>\n",
       "    </tr>\n",
       "    <tr>\n",
       "      <th>7</th>\n",
       "      <td>dis</td>\n",
       "      <td>9.764172e-17</td>\n",
       "      <td>Not Normally Distributed</td>\n",
       "    </tr>\n",
       "    <tr>\n",
       "      <th>8</th>\n",
       "      <td>rad</td>\n",
       "      <td>9.772150e-29</td>\n",
       "      <td>Not Normally Distributed</td>\n",
       "    </tr>\n",
       "    <tr>\n",
       "      <th>9</th>\n",
       "      <td>tax</td>\n",
       "      <td>9.368363e-23</td>\n",
       "      <td>Not Normally Distributed</td>\n",
       "    </tr>\n",
       "    <tr>\n",
       "      <th>10</th>\n",
       "      <td>ptratio</td>\n",
       "      <td>8.878329e-17</td>\n",
       "      <td>Not Normally Distributed</td>\n",
       "    </tr>\n",
       "    <tr>\n",
       "      <th>11</th>\n",
       "      <td>black</td>\n",
       "      <td>2.276394e-34</td>\n",
       "      <td>Not Normally Distributed</td>\n",
       "    </tr>\n",
       "    <tr>\n",
       "      <th>12</th>\n",
       "      <td>lstat</td>\n",
       "      <td>4.110043e-13</td>\n",
       "      <td>Not Normally Distributed</td>\n",
       "    </tr>\n",
       "    <tr>\n",
       "      <th>13</th>\n",
       "      <td>medv</td>\n",
       "      <td>1.968856e-04</td>\n",
       "      <td>Not Normally Distributed</td>\n",
       "    </tr>\n",
       "  </tbody>\n",
       "</table>\n",
       "</div>"
      ],
      "text/plain": [
       "    feature        pvalue                 normality\n",
       "0      crim  5.363994e-35  Not Normally Distributed\n",
       "1        zn  6.679295e-33  Not Normally Distributed\n",
       "2     indus  2.385651e-16  Not Normally Distributed\n",
       "3      chas  1.757129e-39  Not Normally Distributed\n",
       "4       nox  1.645634e-13  Not Normally Distributed\n",
       "5        rm  2.342833e-08  Not Normally Distributed\n",
       "6       age  1.667852e-17  Not Normally Distributed\n",
       "7       dis  9.764172e-17  Not Normally Distributed\n",
       "8       rad  9.772150e-29  Not Normally Distributed\n",
       "9       tax  9.368363e-23  Not Normally Distributed\n",
       "10  ptratio  8.878329e-17  Not Normally Distributed\n",
       "11    black  2.276394e-34  Not Normally Distributed\n",
       "12    lstat  4.110043e-13  Not Normally Distributed\n",
       "13     medv  1.968856e-04  Not Normally Distributed"
      ]
     },
     "execution_count": 353,
     "metadata": {},
     "output_type": "execute_result"
    }
   ],
   "source": [
    "#  Feature scaling\n",
    "# Lets us check normality of all columns at significance level of 5%\n",
    "test_normality(df)\n",
    "\n",
    "\n",
    "# No column in dataset is normaaly distributed"
   ]
  },
  {
   "cell_type": "code",
   "execution_count": 355,
   "metadata": {},
   "outputs": [],
   "source": [
    "# Lets us scale down the features as their magnitudes are high and they are in different scales\n",
    "scalee=MinMaxScaler()\n",
    "scalee.fit(xtrain)\n",
    "x_train=scalee.transform(xtrain)\n",
    "x_test=scalee.transform(xtest)\n",
    "y_train=scalee.fit_transform(ytrain)\n",
    "y_test=scalee.transform(ytest)"
   ]
  },
  {
   "cell_type": "code",
   "execution_count": 357,
   "metadata": {},
   "outputs": [],
   "source": [
    "x_train=pd.DataFrame(x_train,columns=xtrain.columns)\n",
    "y_train=pd.DataFrame(y_train,columns=ytrain.columns)\n",
    "x_test=pd.DataFrame(x_test,columns=xtest.columns)\n",
    "y_test=pd.DataFrame(y_test,columns=ytest.columns)\n",
    "\n",
    "# now we have scaled down data\n"
   ]
  },
  {
   "cell_type": "code",
   "execution_count": 373,
   "metadata": {},
   "outputs": [],
   "source": [
    "x_train=sm.api.add_constant(x_train)\n",
    "x_test=sm.api.add_constant(x_test)"
   ]
  },
  {
   "cell_type": "code",
   "execution_count": 360,
   "metadata": {},
   "outputs": [
    {
     "data": {
      "text/html": [
       "<div>\n",
       "<style scoped>\n",
       "    .dataframe tbody tr th:only-of-type {\n",
       "        vertical-align: middle;\n",
       "    }\n",
       "\n",
       "    .dataframe tbody tr th {\n",
       "        vertical-align: top;\n",
       "    }\n",
       "\n",
       "    .dataframe thead th {\n",
       "        text-align: right;\n",
       "    }\n",
       "</style>\n",
       "<table border=\"1\" class=\"dataframe\">\n",
       "  <thead>\n",
       "    <tr style=\"text-align: right;\">\n",
       "      <th></th>\n",
       "      <th>const</th>\n",
       "      <th>crim</th>\n",
       "      <th>zn</th>\n",
       "      <th>indus</th>\n",
       "      <th>chas</th>\n",
       "      <th>nox</th>\n",
       "      <th>rm</th>\n",
       "      <th>age</th>\n",
       "      <th>dis</th>\n",
       "      <th>rad</th>\n",
       "      <th>tax</th>\n",
       "      <th>ptratio</th>\n",
       "      <th>black</th>\n",
       "      <th>lstat</th>\n",
       "    </tr>\n",
       "  </thead>\n",
       "  <tbody>\n",
       "    <tr>\n",
       "      <th>0</th>\n",
       "      <td>1.0</td>\n",
       "      <td>0.001813</td>\n",
       "      <td>0.00</td>\n",
       "      <td>0.245926</td>\n",
       "      <td>0.0</td>\n",
       "      <td>0.215768</td>\n",
       "      <td>0.693705</td>\n",
       "      <td>0.508754</td>\n",
       "      <td>0.309696</td>\n",
       "      <td>0.173913</td>\n",
       "      <td>0.190840</td>\n",
       "      <td>0.733333</td>\n",
       "      <td>1.000000</td>\n",
       "      <td>0.145040</td>\n",
       "    </tr>\n",
       "    <tr>\n",
       "      <th>1</th>\n",
       "      <td>1.0</td>\n",
       "      <td>0.000870</td>\n",
       "      <td>0.45</td>\n",
       "      <td>0.100000</td>\n",
       "      <td>0.0</td>\n",
       "      <td>0.099585</td>\n",
       "      <td>0.877482</td>\n",
       "      <td>0.370752</td>\n",
       "      <td>0.312089</td>\n",
       "      <td>0.173913</td>\n",
       "      <td>0.402672</td>\n",
       "      <td>0.244444</td>\n",
       "      <td>1.000000</td>\n",
       "      <td>0.094749</td>\n",
       "    </tr>\n",
       "    <tr>\n",
       "      <th>2</th>\n",
       "      <td>1.0</td>\n",
       "      <td>0.006838</td>\n",
       "      <td>0.00</td>\n",
       "      <td>0.202222</td>\n",
       "      <td>0.0</td>\n",
       "      <td>0.244813</td>\n",
       "      <td>0.740194</td>\n",
       "      <td>0.802266</td>\n",
       "      <td>0.194285</td>\n",
       "      <td>0.304348</td>\n",
       "      <td>0.229008</td>\n",
       "      <td>0.488889</td>\n",
       "      <td>1.000000</td>\n",
       "      <td>0.156154</td>\n",
       "    </tr>\n",
       "    <tr>\n",
       "      <th>3</th>\n",
       "      <td>1.0</td>\n",
       "      <td>0.058396</td>\n",
       "      <td>0.00</td>\n",
       "      <td>0.642963</td>\n",
       "      <td>1.0</td>\n",
       "      <td>0.790456</td>\n",
       "      <td>0.621308</td>\n",
       "      <td>0.829042</td>\n",
       "      <td>0.144292</td>\n",
       "      <td>1.000000</td>\n",
       "      <td>0.914122</td>\n",
       "      <td>0.800000</td>\n",
       "      <td>0.996273</td>\n",
       "      <td>0.263962</td>\n",
       "    </tr>\n",
       "    <tr>\n",
       "      <th>4</th>\n",
       "      <td>1.0</td>\n",
       "      <td>0.000863</td>\n",
       "      <td>0.00</td>\n",
       "      <td>0.063704</td>\n",
       "      <td>0.0</td>\n",
       "      <td>0.205394</td>\n",
       "      <td>0.494673</td>\n",
       "      <td>0.894954</td>\n",
       "      <td>0.168424</td>\n",
       "      <td>0.086957</td>\n",
       "      <td>0.011450</td>\n",
       "      <td>0.533333</td>\n",
       "      <td>0.985040</td>\n",
       "      <td>0.333426</td>\n",
       "    </tr>\n",
       "    <tr>\n",
       "      <th>...</th>\n",
       "      <td>...</td>\n",
       "      <td>...</td>\n",
       "      <td>...</td>\n",
       "      <td>...</td>\n",
       "      <td>...</td>\n",
       "      <td>...</td>\n",
       "      <td>...</td>\n",
       "      <td>...</td>\n",
       "      <td>...</td>\n",
       "      <td>...</td>\n",
       "      <td>...</td>\n",
       "      <td>...</td>\n",
       "      <td>...</td>\n",
       "      <td>...</td>\n",
       "    </tr>\n",
       "    <tr>\n",
       "      <th>321</th>\n",
       "      <td>1.0</td>\n",
       "      <td>0.114945</td>\n",
       "      <td>0.00</td>\n",
       "      <td>0.642963</td>\n",
       "      <td>0.0</td>\n",
       "      <td>0.466805</td>\n",
       "      <td>0.635351</td>\n",
       "      <td>0.966014</td>\n",
       "      <td>0.094044</td>\n",
       "      <td>1.000000</td>\n",
       "      <td>0.914122</td>\n",
       "      <td>0.800000</td>\n",
       "      <td>0.956387</td>\n",
       "      <td>0.445957</td>\n",
       "    </tr>\n",
       "    <tr>\n",
       "      <th>322</th>\n",
       "      <td>1.0</td>\n",
       "      <td>0.002945</td>\n",
       "      <td>0.00</td>\n",
       "      <td>0.331481</td>\n",
       "      <td>0.0</td>\n",
       "      <td>0.406639</td>\n",
       "      <td>0.540678</td>\n",
       "      <td>0.697219</td>\n",
       "      <td>0.159762</td>\n",
       "      <td>0.217391</td>\n",
       "      <td>0.389313</td>\n",
       "      <td>0.688889</td>\n",
       "      <td>1.000000</td>\n",
       "      <td>0.336760</td>\n",
       "    </tr>\n",
       "    <tr>\n",
       "      <th>323</th>\n",
       "      <td>1.0</td>\n",
       "      <td>0.000307</td>\n",
       "      <td>0.75</td>\n",
       "      <td>0.081852</td>\n",
       "      <td>0.0</td>\n",
       "      <td>0.080913</td>\n",
       "      <td>0.838499</td>\n",
       "      <td>0.132853</td>\n",
       "      <td>0.388016</td>\n",
       "      <td>0.086957</td>\n",
       "      <td>0.124046</td>\n",
       "      <td>0.588889</td>\n",
       "      <td>0.996754</td>\n",
       "      <td>0.000000</td>\n",
       "    </tr>\n",
       "    <tr>\n",
       "      <th>324</th>\n",
       "      <td>1.0</td>\n",
       "      <td>0.000853</td>\n",
       "      <td>0.22</td>\n",
       "      <td>0.189630</td>\n",
       "      <td>0.0</td>\n",
       "      <td>0.087137</td>\n",
       "      <td>0.822276</td>\n",
       "      <td>0.040165</td>\n",
       "      <td>0.707011</td>\n",
       "      <td>0.260870</td>\n",
       "      <td>0.272901</td>\n",
       "      <td>0.677778</td>\n",
       "      <td>0.972590</td>\n",
       "      <td>0.043068</td>\n",
       "    </tr>\n",
       "    <tr>\n",
       "      <th>325</th>\n",
       "      <td>1.0</td>\n",
       "      <td>0.000328</td>\n",
       "      <td>0.25</td>\n",
       "      <td>0.152593</td>\n",
       "      <td>0.0</td>\n",
       "      <td>0.076763</td>\n",
       "      <td>0.630993</td>\n",
       "      <td>0.451081</td>\n",
       "      <td>0.387979</td>\n",
       "      <td>0.130435</td>\n",
       "      <td>0.179389</td>\n",
       "      <td>0.666667</td>\n",
       "      <td>0.984127</td>\n",
       "      <td>0.153654</td>\n",
       "    </tr>\n",
       "  </tbody>\n",
       "</table>\n",
       "<p>326 rows × 14 columns</p>\n",
       "</div>"
      ],
      "text/plain": [
       "     const      crim    zn     indus  chas       nox        rm       age  \\\n",
       "0      1.0  0.001813  0.00  0.245926   0.0  0.215768  0.693705  0.508754   \n",
       "1      1.0  0.000870  0.45  0.100000   0.0  0.099585  0.877482  0.370752   \n",
       "2      1.0  0.006838  0.00  0.202222   0.0  0.244813  0.740194  0.802266   \n",
       "3      1.0  0.058396  0.00  0.642963   1.0  0.790456  0.621308  0.829042   \n",
       "4      1.0  0.000863  0.00  0.063704   0.0  0.205394  0.494673  0.894954   \n",
       "..     ...       ...   ...       ...   ...       ...       ...       ...   \n",
       "321    1.0  0.114945  0.00  0.642963   0.0  0.466805  0.635351  0.966014   \n",
       "322    1.0  0.002945  0.00  0.331481   0.0  0.406639  0.540678  0.697219   \n",
       "323    1.0  0.000307  0.75  0.081852   0.0  0.080913  0.838499  0.132853   \n",
       "324    1.0  0.000853  0.22  0.189630   0.0  0.087137  0.822276  0.040165   \n",
       "325    1.0  0.000328  0.25  0.152593   0.0  0.076763  0.630993  0.451081   \n",
       "\n",
       "          dis       rad       tax   ptratio     black     lstat  \n",
       "0    0.309696  0.173913  0.190840  0.733333  1.000000  0.145040  \n",
       "1    0.312089  0.173913  0.402672  0.244444  1.000000  0.094749  \n",
       "2    0.194285  0.304348  0.229008  0.488889  1.000000  0.156154  \n",
       "3    0.144292  1.000000  0.914122  0.800000  0.996273  0.263962  \n",
       "4    0.168424  0.086957  0.011450  0.533333  0.985040  0.333426  \n",
       "..        ...       ...       ...       ...       ...       ...  \n",
       "321  0.094044  1.000000  0.914122  0.800000  0.956387  0.445957  \n",
       "322  0.159762  0.217391  0.389313  0.688889  1.000000  0.336760  \n",
       "323  0.388016  0.086957  0.124046  0.588889  0.996754  0.000000  \n",
       "324  0.707011  0.260870  0.272901  0.677778  0.972590  0.043068  \n",
       "325  0.387979  0.130435  0.179389  0.666667  0.984127  0.153654  \n",
       "\n",
       "[326 rows x 14 columns]"
      ]
     },
     "execution_count": 360,
     "metadata": {},
     "output_type": "execute_result"
    }
   ],
   "source": [
    "x_train"
   ]
  },
  {
   "cell_type": "code",
   "execution_count": 361,
   "metadata": {},
   "outputs": [
    {
     "data": {
      "text/html": [
       "<table class=\"simpletable\">\n",
       "<caption>OLS Regression Results</caption>\n",
       "<tr>\n",
       "  <th>Dep. Variable:</th>          <td>medv</td>       <th>  R-squared:         </th> <td>   0.770</td>\n",
       "</tr>\n",
       "<tr>\n",
       "  <th>Model:</th>                   <td>OLS</td>       <th>  Adj. R-squared:    </th> <td>   0.760</td>\n",
       "</tr>\n",
       "<tr>\n",
       "  <th>Method:</th>             <td>Least Squares</td>  <th>  F-statistic:       </th> <td>   80.26</td>\n",
       "</tr>\n",
       "<tr>\n",
       "  <th>Date:</th>             <td>Wed, 27 Jul 2022</td> <th>  Prob (F-statistic):</th> <td>3.31e-91</td>\n",
       "</tr>\n",
       "<tr>\n",
       "  <th>Time:</th>                 <td>23:40:22</td>     <th>  Log-Likelihood:    </th> <td>  283.51</td>\n",
       "</tr>\n",
       "<tr>\n",
       "  <th>No. Observations:</th>      <td>   326</td>      <th>  AIC:               </th> <td>  -539.0</td>\n",
       "</tr>\n",
       "<tr>\n",
       "  <th>Df Residuals:</th>          <td>   312</td>      <th>  BIC:               </th> <td>  -486.0</td>\n",
       "</tr>\n",
       "<tr>\n",
       "  <th>Df Model:</th>              <td>    13</td>      <th>                     </th>     <td> </td>   \n",
       "</tr>\n",
       "<tr>\n",
       "  <th>Covariance Type:</th>      <td>nonrobust</td>    <th>                     </th>     <td> </td>   \n",
       "</tr>\n",
       "</table>\n",
       "<table class=\"simpletable\">\n",
       "<tr>\n",
       "     <td></td>        <th>coef</th>     <th>std err</th>      <th>t</th>      <th>P>|t|</th>  <th>[0.025</th>    <th>0.975]</th>  \n",
       "</tr>\n",
       "<tr>\n",
       "  <th>const</th>   <td>    0.6291</td> <td>    0.068</td> <td>    9.246</td> <td> 0.000</td> <td>    0.495</td> <td>    0.763</td>\n",
       "</tr>\n",
       "<tr>\n",
       "  <th>crim</th>    <td>   -0.2824</td> <td>    0.079</td> <td>   -3.558</td> <td> 0.000</td> <td>   -0.439</td> <td>   -0.126</td>\n",
       "</tr>\n",
       "<tr>\n",
       "  <th>zn</th>      <td>    0.1513</td> <td>    0.040</td> <td>    3.790</td> <td> 0.000</td> <td>    0.073</td> <td>    0.230</td>\n",
       "</tr>\n",
       "<tr>\n",
       "  <th>indus</th>   <td>   -0.0321</td> <td>    0.045</td> <td>   -0.719</td> <td> 0.472</td> <td>   -0.120</td> <td>    0.056</td>\n",
       "</tr>\n",
       "<tr>\n",
       "  <th>chas</th>    <td>    0.0410</td> <td>    0.024</td> <td>    1.705</td> <td> 0.089</td> <td>   -0.006</td> <td>    0.088</td>\n",
       "</tr>\n",
       "<tr>\n",
       "  <th>nox</th>     <td>   -0.1934</td> <td>    0.051</td> <td>   -3.810</td> <td> 0.000</td> <td>   -0.293</td> <td>   -0.093</td>\n",
       "</tr>\n",
       "<tr>\n",
       "  <th>rm</th>      <td>    0.3340</td> <td>    0.056</td> <td>    5.936</td> <td> 0.000</td> <td>    0.223</td> <td>    0.445</td>\n",
       "</tr>\n",
       "<tr>\n",
       "  <th>age</th>     <td>   -0.0574</td> <td>    0.035</td> <td>   -1.619</td> <td> 0.107</td> <td>   -0.127</td> <td>    0.012</td>\n",
       "</tr>\n",
       "<tr>\n",
       "  <th>dis</th>     <td>   -0.3667</td> <td>    0.061</td> <td>   -6.025</td> <td> 0.000</td> <td>   -0.486</td> <td>   -0.247</td>\n",
       "</tr>\n",
       "<tr>\n",
       "  <th>rad</th>     <td>    0.1898</td> <td>    0.040</td> <td>    4.734</td> <td> 0.000</td> <td>    0.111</td> <td>    0.269</td>\n",
       "</tr>\n",
       "<tr>\n",
       "  <th>tax</th>     <td>   -0.2166</td> <td>    0.052</td> <td>   -4.193</td> <td> 0.000</td> <td>   -0.318</td> <td>   -0.115</td>\n",
       "</tr>\n",
       "<tr>\n",
       "  <th>ptratio</th> <td>   -0.1730</td> <td>    0.032</td> <td>   -5.353</td> <td> 0.000</td> <td>   -0.237</td> <td>   -0.109</td>\n",
       "</tr>\n",
       "<tr>\n",
       "  <th>black</th>   <td>    0.1190</td> <td>    0.029</td> <td>    4.097</td> <td> 0.000</td> <td>    0.062</td> <td>    0.176</td>\n",
       "</tr>\n",
       "<tr>\n",
       "  <th>lstat</th>   <td>   -0.3976</td> <td>    0.052</td> <td>   -7.642</td> <td> 0.000</td> <td>   -0.500</td> <td>   -0.295</td>\n",
       "</tr>\n",
       "</table>\n",
       "<table class=\"simpletable\">\n",
       "<tr>\n",
       "  <th>Omnibus:</th>       <td>48.975</td> <th>  Durbin-Watson:     </th> <td>   2.069</td>\n",
       "</tr>\n",
       "<tr>\n",
       "  <th>Prob(Omnibus):</th> <td> 0.000</td> <th>  Jarque-Bera (JB):  </th> <td>  87.230</td>\n",
       "</tr>\n",
       "<tr>\n",
       "  <th>Skew:</th>          <td> 0.847</td> <th>  Prob(JB):          </th> <td>1.14e-19</td>\n",
       "</tr>\n",
       "<tr>\n",
       "  <th>Kurtosis:</th>      <td> 4.884</td> <th>  Cond. No.          </th> <td>    31.9</td>\n",
       "</tr>\n",
       "</table><br/><br/>Notes:<br/>[1] Standard Errors assume that the covariance matrix of the errors is correctly specified."
      ],
      "text/plain": [
       "<class 'statsmodels.iolib.summary.Summary'>\n",
       "\"\"\"\n",
       "                            OLS Regression Results                            \n",
       "==============================================================================\n",
       "Dep. Variable:                   medv   R-squared:                       0.770\n",
       "Model:                            OLS   Adj. R-squared:                  0.760\n",
       "Method:                 Least Squares   F-statistic:                     80.26\n",
       "Date:                Wed, 27 Jul 2022   Prob (F-statistic):           3.31e-91\n",
       "Time:                        23:40:22   Log-Likelihood:                 283.51\n",
       "No. Observations:                 326   AIC:                            -539.0\n",
       "Df Residuals:                     312   BIC:                            -486.0\n",
       "Df Model:                          13                                         \n",
       "Covariance Type:            nonrobust                                         \n",
       "==============================================================================\n",
       "                 coef    std err          t      P>|t|      [0.025      0.975]\n",
       "------------------------------------------------------------------------------\n",
       "const          0.6291      0.068      9.246      0.000       0.495       0.763\n",
       "crim          -0.2824      0.079     -3.558      0.000      -0.439      -0.126\n",
       "zn             0.1513      0.040      3.790      0.000       0.073       0.230\n",
       "indus         -0.0321      0.045     -0.719      0.472      -0.120       0.056\n",
       "chas           0.0410      0.024      1.705      0.089      -0.006       0.088\n",
       "nox           -0.1934      0.051     -3.810      0.000      -0.293      -0.093\n",
       "rm             0.3340      0.056      5.936      0.000       0.223       0.445\n",
       "age           -0.0574      0.035     -1.619      0.107      -0.127       0.012\n",
       "dis           -0.3667      0.061     -6.025      0.000      -0.486      -0.247\n",
       "rad            0.1898      0.040      4.734      0.000       0.111       0.269\n",
       "tax           -0.2166      0.052     -4.193      0.000      -0.318      -0.115\n",
       "ptratio       -0.1730      0.032     -5.353      0.000      -0.237      -0.109\n",
       "black          0.1190      0.029      4.097      0.000       0.062       0.176\n",
       "lstat         -0.3976      0.052     -7.642      0.000      -0.500      -0.295\n",
       "==============================================================================\n",
       "Omnibus:                       48.975   Durbin-Watson:                   2.069\n",
       "Prob(Omnibus):                  0.000   Jarque-Bera (JB):               87.230\n",
       "Skew:                           0.847   Prob(JB):                     1.14e-19\n",
       "Kurtosis:                       4.884   Cond. No.                         31.9\n",
       "==============================================================================\n",
       "\n",
       "Notes:\n",
       "[1] Standard Errors assume that the covariance matrix of the errors is correctly specified.\n",
       "\"\"\""
      ]
     },
     "execution_count": 361,
     "metadata": {},
     "output_type": "execute_result"
    }
   ],
   "source": [
    "\n",
    "# OLS\n",
    "\n",
    "ols_model=OLS(y_train,x_train).fit()\n",
    "ols_model.summary()\n",
    "\n"
   ]
  },
  {
   "cell_type": "markdown",
   "metadata": {},
   "source": [
    "##  Insights on OLS\n",
    "\n",
    "Derbin watson value is very close to 2. Hence the errors are not auto correlated.\n",
    "Pvalue of F statistic is lesser than zero hence the model is significant.\n",
    "We could see pvalue of tstatistic for columns age,indus are greater than 0.05. Hence they are insignificant features .\n"
   ]
  },
  {
   "cell_type": "code",
   "execution_count": 363,
   "metadata": {},
   "outputs": [
    {
     "data": {
      "text/plain": [
       "0     -0.005173\n",
       "1      0.131451\n",
       "2      0.108977\n",
       "3      0.099121\n",
       "4      0.127418\n",
       "         ...   \n",
       "321   -0.106818\n",
       "322   -0.032979\n",
       "323    0.087390\n",
       "324    0.152536\n",
       "325   -0.056512\n",
       "Length: 326, dtype: float64"
      ]
     },
     "execution_count": 363,
     "metadata": {},
     "output_type": "execute_result"
    }
   ],
   "source": [
    "errors=ols_model.resid\n",
    "errors\n"
   ]
  },
  {
   "cell_type": "code",
   "execution_count": 364,
   "metadata": {},
   "outputs": [
    {
     "data": {
      "text/plain": [
       "<AxesSubplot:>"
      ]
     },
     "execution_count": 364,
     "metadata": {},
     "output_type": "execute_result"
    },
    {
     "data": {
      "image/png": "[encoded data removed]",
      "text/plain": [
       "<Figure size 640x480 with 1 Axes>"
      ]
     },
     "metadata": {},
     "output_type": "display_data"
    }
   ],
   "source": [
    "# scatter plot of errors\n",
    "\n",
    "\n",
    "sns.scatterplot(data=errors)"
   ]
  },
  {
   "cell_type": "markdown",
   "metadata": {},
   "source": [
    "###  Errors seems to be Homoscadastic from the above scatter plot"
   ]
  },
  {
   "cell_type": "code",
   "execution_count": 365,
   "metadata": {},
   "outputs": [
    {
     "name": "stdout",
     "output_type": "stream",
     "text": [
      "Pvalue is 0.000000 and shipro statistic value is 0.958371. It is not Normally distributed\n"
     ]
    }
   ],
   "source": [
    "# Test for Mormality of Errors\n",
    "\n",
    "stat,pval=shapiro(errors)\n",
    "if pval>0.05:\n",
    "    print(\"Pvalue is %.6f and shipro statistic value is %.6f. It is Normally distributed\" %(pval,stat))\n",
    "else:\n",
    "    print(\"Pvalue is %.6f and shipro statistic value is %.6f. It is not Normally distributed\" %(pval,stat))"
   ]
  },
  {
   "cell_type": "markdown",
   "metadata": {},
   "source": [
    "###  Errors are not normally distributed. "
   ]
  },
  {
   "cell_type": "code",
   "execution_count": 366,
   "metadata": {},
   "outputs": [
    {
     "data": {
      "text/plain": [
       "<AxesSubplot:ylabel='Density'>"
      ]
     },
     "execution_count": 366,
     "metadata": {},
     "output_type": "execute_result"
    },
    {
     "data": {
      "image/png": "[encoded data removed]",
      "text/plain": [
       "<Figure size 640x480 with 1 Axes>"
      ]
     },
     "metadata": {},
     "output_type": "display_data"
    }
   ],
   "source": [
    "sns.kdeplot(errors)"
   ]
  },
  {
   "cell_type": "code",
   "execution_count": 368,
   "metadata": {},
   "outputs": [
    {
     "name": "stdout",
     "output_type": "stream",
     "text": [
      "ShapiroResult(statistic=nan, pvalue=1.0)\n"
     ]
    },
    {
     "data": {
      "text/plain": [
       "medv    0.0\n",
       "Name: 68, dtype: float64"
      ]
     },
     "execution_count": 368,
     "metadata": {},
     "output_type": "execute_result"
    }
   ],
   "source": [
    "# Let us transform target variable using transformation methods so that errors follows normal distribution\n",
    "\n",
    "# y_train_l=\n",
    "\n",
    "print(shapiro(np.log10(y_train)))\n",
    "\n",
    "\n",
    "d=np.log10(y_train)\n",
    "d.loc[d[\"medv\"]==-np.inf,:]\n",
    "y_train.loc[68,:]\n",
    "\n",
    "\n",
    "# since our target variabl  has 0 , its log value would be undefined. Hence we cannot use Log normal transformation\n",
    "\n",
    "\n"
   ]
  },
  {
   "cell_type": "code",
   "execution_count": 369,
   "metadata": {},
   "outputs": [],
   "source": [
    "# we can use yeo johnson transformation\n",
    "\n",
    "# y_train_y=\n",
    "\n",
    "y_train_y=pd.DataFrame(power_transform(y_train,method='yeo-johnson'),columns=y_train.columns)\n",
    "\n",
    "\n"
   ]
  },
  {
   "cell_type": "markdown",
   "metadata": {},
   "source": [
    "# 2nd time OLS model"
   ]
  },
  {
   "cell_type": "code",
   "execution_count": 370,
   "metadata": {},
   "outputs": [
    {
     "data": {
      "text/html": [
       "<table class=\"simpletable\">\n",
       "<caption>OLS Regression Results</caption>\n",
       "<tr>\n",
       "  <th>Dep. Variable:</th>          <td>medv</td>       <th>  R-squared:         </th> <td>   0.776</td>\n",
       "</tr>\n",
       "<tr>\n",
       "  <th>Model:</th>                   <td>OLS</td>       <th>  Adj. R-squared:    </th> <td>   0.766</td>\n",
       "</tr>\n",
       "<tr>\n",
       "  <th>Method:</th>             <td>Least Squares</td>  <th>  F-statistic:       </th> <td>   82.96</td>\n",
       "</tr>\n",
       "<tr>\n",
       "  <th>Date:</th>             <td>Wed, 27 Jul 2022</td> <th>  Prob (F-statistic):</th> <td>6.41e-93</td>\n",
       "</tr>\n",
       "<tr>\n",
       "  <th>Time:</th>                 <td>23:42:37</td>     <th>  Log-Likelihood:    </th> <td> -218.99</td>\n",
       "</tr>\n",
       "<tr>\n",
       "  <th>No. Observations:</th>      <td>   326</td>      <th>  AIC:               </th> <td>   466.0</td>\n",
       "</tr>\n",
       "<tr>\n",
       "  <th>Df Residuals:</th>          <td>   312</td>      <th>  BIC:               </th> <td>   519.0</td>\n",
       "</tr>\n",
       "<tr>\n",
       "  <th>Df Model:</th>              <td>    13</td>      <th>                     </th>     <td> </td>   \n",
       "</tr>\n",
       "<tr>\n",
       "  <th>Covariance Type:</th>      <td>nonrobust</td>    <th>                     </th>     <td> </td>   \n",
       "</tr>\n",
       "</table>\n",
       "<table class=\"simpletable\">\n",
       "<tr>\n",
       "     <td></td>        <th>coef</th>     <th>std err</th>      <th>t</th>      <th>P>|t|</th>  <th>[0.025</th>    <th>0.975]</th>  \n",
       "</tr>\n",
       "<tr>\n",
       "  <th>const</th>   <td>    0.7151</td> <td>    0.318</td> <td>    2.250</td> <td> 0.025</td> <td>    0.090</td> <td>    1.341</td>\n",
       "</tr>\n",
       "<tr>\n",
       "  <th>crim</th>    <td>   -1.4472</td> <td>    0.371</td> <td>   -3.903</td> <td> 0.000</td> <td>   -2.177</td> <td>   -0.718</td>\n",
       "</tr>\n",
       "<tr>\n",
       "  <th>zn</th>      <td>    0.6538</td> <td>    0.186</td> <td>    3.506</td> <td> 0.001</td> <td>    0.287</td> <td>    1.021</td>\n",
       "</tr>\n",
       "<tr>\n",
       "  <th>indus</th>   <td>   -0.1062</td> <td>    0.208</td> <td>   -0.510</td> <td> 0.610</td> <td>   -0.516</td> <td>    0.303</td>\n",
       "</tr>\n",
       "<tr>\n",
       "  <th>chas</th>    <td>    0.1945</td> <td>    0.112</td> <td>    1.733</td> <td> 0.084</td> <td>   -0.026</td> <td>    0.415</td>\n",
       "</tr>\n",
       "<tr>\n",
       "  <th>nox</th>     <td>   -0.9402</td> <td>    0.237</td> <td>   -3.966</td> <td> 0.000</td> <td>   -1.407</td> <td>   -0.474</td>\n",
       "</tr>\n",
       "<tr>\n",
       "  <th>rm</th>      <td>    1.4637</td> <td>    0.263</td> <td>    5.568</td> <td> 0.000</td> <td>    0.946</td> <td>    1.981</td>\n",
       "</tr>\n",
       "<tr>\n",
       "  <th>age</th>     <td>   -0.2416</td> <td>    0.166</td> <td>   -1.459</td> <td> 0.145</td> <td>   -0.567</td> <td>    0.084</td>\n",
       "</tr>\n",
       "<tr>\n",
       "  <th>dis</th>     <td>   -1.6545</td> <td>    0.284</td> <td>   -5.820</td> <td> 0.000</td> <td>   -2.214</td> <td>   -1.095</td>\n",
       "</tr>\n",
       "<tr>\n",
       "  <th>rad</th>     <td>    0.9019</td> <td>    0.187</td> <td>    4.816</td> <td> 0.000</td> <td>    0.533</td> <td>    1.270</td>\n",
       "</tr>\n",
       "<tr>\n",
       "  <th>tax</th>     <td>   -1.0322</td> <td>    0.241</td> <td>   -4.278</td> <td> 0.000</td> <td>   -1.507</td> <td>   -0.557</td>\n",
       "</tr>\n",
       "<tr>\n",
       "  <th>ptratio</th> <td>   -0.8088</td> <td>    0.151</td> <td>   -5.357</td> <td> 0.000</td> <td>   -1.106</td> <td>   -0.512</td>\n",
       "</tr>\n",
       "<tr>\n",
       "  <th>black</th>   <td>    0.5714</td> <td>    0.136</td> <td>    4.210</td> <td> 0.000</td> <td>    0.304</td> <td>    0.838</td>\n",
       "</tr>\n",
       "<tr>\n",
       "  <th>lstat</th>   <td>   -1.9690</td> <td>    0.243</td> <td>   -8.102</td> <td> 0.000</td> <td>   -2.447</td> <td>   -1.491</td>\n",
       "</tr>\n",
       "</table>\n",
       "<table class=\"simpletable\">\n",
       "<tr>\n",
       "  <th>Omnibus:</th>       <td>45.679</td> <th>  Durbin-Watson:     </th> <td>   2.068</td>\n",
       "</tr>\n",
       "<tr>\n",
       "  <th>Prob(Omnibus):</th> <td> 0.000</td> <th>  Jarque-Bera (JB):  </th> <td>  86.025</td>\n",
       "</tr>\n",
       "<tr>\n",
       "  <th>Skew:</th>          <td> 0.774</td> <th>  Prob(JB):          </th> <td>2.09e-19</td>\n",
       "</tr>\n",
       "<tr>\n",
       "  <th>Kurtosis:</th>      <td> 4.984</td> <th>  Cond. No.          </th> <td>    31.9</td>\n",
       "</tr>\n",
       "</table><br/><br/>Notes:<br/>[1] Standard Errors assume that the covariance matrix of the errors is correctly specified."
      ],
      "text/plain": [
       "<class 'statsmodels.iolib.summary.Summary'>\n",
       "\"\"\"\n",
       "                            OLS Regression Results                            \n",
       "==============================================================================\n",
       "Dep. Variable:                   medv   R-squared:                       0.776\n",
       "Model:                            OLS   Adj. R-squared:                  0.766\n",
       "Method:                 Least Squares   F-statistic:                     82.96\n",
       "Date:                Wed, 27 Jul 2022   Prob (F-statistic):           6.41e-93\n",
       "Time:                        23:42:37   Log-Likelihood:                -218.99\n",
       "No. Observations:                 326   AIC:                             466.0\n",
       "Df Residuals:                     312   BIC:                             519.0\n",
       "Df Model:                          13                                         \n",
       "Covariance Type:            nonrobust                                         \n",
       "==============================================================================\n",
       "                 coef    std err          t      P>|t|      [0.025      0.975]\n",
       "------------------------------------------------------------------------------\n",
       "const          0.7151      0.318      2.250      0.025       0.090       1.341\n",
       "crim          -1.4472      0.371     -3.903      0.000      -2.177      -0.718\n",
       "zn             0.6538      0.186      3.506      0.001       0.287       1.021\n",
       "indus         -0.1062      0.208     -0.510      0.610      -0.516       0.303\n",
       "chas           0.1945      0.112      1.733      0.084      -0.026       0.415\n",
       "nox           -0.9402      0.237     -3.966      0.000      -1.407      -0.474\n",
       "rm             1.4637      0.263      5.568      0.000       0.946       1.981\n",
       "age           -0.2416      0.166     -1.459      0.145      -0.567       0.084\n",
       "dis           -1.6545      0.284     -5.820      0.000      -2.214      -1.095\n",
       "rad            0.9019      0.187      4.816      0.000       0.533       1.270\n",
       "tax           -1.0322      0.241     -4.278      0.000      -1.507      -0.557\n",
       "ptratio       -0.8088      0.151     -5.357      0.000      -1.106      -0.512\n",
       "black          0.5714      0.136      4.210      0.000       0.304       0.838\n",
       "lstat         -1.9690      0.243     -8.102      0.000      -2.447      -1.491\n",
       "==============================================================================\n",
       "Omnibus:                       45.679   Durbin-Watson:                   2.068\n",
       "Prob(Omnibus):                  0.000   Jarque-Bera (JB):               86.025\n",
       "Skew:                           0.774   Prob(JB):                     2.09e-19\n",
       "Kurtosis:                       4.984   Cond. No.                         31.9\n",
       "==============================================================================\n",
       "\n",
       "Notes:\n",
       "[1] Standard Errors assume that the covariance matrix of the errors is correctly specified.\n",
       "\"\"\""
      ]
     },
     "execution_count": 370,
     "metadata": {},
     "output_type": "execute_result"
    }
   ],
   "source": [
    "# let us build OLS model again with transformed dependent variable\n",
    "\n",
    "ols_1_model=OLS(y_train_y,x_train).fit()\n",
    "ols_1_model.summary()"
   ]
  },
  {
   "cell_type": "code",
   "execution_count": 371,
   "metadata": {},
   "outputs": [
    {
     "name": "stdout",
     "output_type": "stream",
     "text": [
      "Pvalue is 0.000000 and shipro statistic value is 0.961697. It is not Normally distributed\n"
     ]
    }
   ],
   "source": [
    "error_ols1=ols_1_model.resid\n",
    "\n",
    "# check normality of errors\n",
    "\n",
    "stat,pval=shapiro(error_ols1)\n",
    "\n",
    "if pval>0.05:\n",
    "    print(\"Pvalue is %.6f and shipro statistic value is %.6f. It is Normally distributed\" %(pval,stat))\n",
    "else:\n",
    "    print(\"Pvalue is %.6f and shipro statistic value is %.6f. It is not Normally distributed\" %(pval,stat))"
   ]
  },
  {
   "cell_type": "code",
   "execution_count": 309,
   "metadata": {},
   "outputs": [
    {
     "data": {
      "text/plain": [
       "<AxesSubplot:ylabel='Density'>"
      ]
     },
     "execution_count": 309,
     "metadata": {},
     "output_type": "execute_result"
    },
    {
     "data": {
      "image/png": "[encoded data removed]",
      "text/plain": [
       "<Figure size 640x480 with 1 Axes>"
      ]
     },
     "metadata": {},
     "output_type": "display_data"
    }
   ],
   "source": [
    "sns.kdeplot(error_ols1)"
   ]
  },
  {
   "cell_type": "markdown",
   "metadata": {},
   "source": [
    "####  Still the errors are not normally distributed"
   ]
  },
  {
   "cell_type": "code",
   "execution_count": 374,
   "metadata": {},
   "outputs": [],
   "source": [
    "# lets  use ytest to make predictions\n",
    "\n",
    "ols_ypreds=ols_1_model.predict(x_test)"
   ]
  },
  {
   "cell_type": "code",
   "execution_count": 375,
   "metadata": {},
   "outputs": [
    {
     "name": "stdout",
     "output_type": "stream",
     "text": [
      "RMSE of OLS model prediction: 0.811107\n"
     ]
    }
   ],
   "source": [
    "rmse=np.sqrt(mean_squared_error(y_test,ols_ypreds))\n",
    "print(\"RMSE of OLS model prediction: %.6f\" %rmse)"
   ]
  },
  {
   "cell_type": "markdown",
   "metadata": {},
   "source": [
    "# Linear Regression model"
   ]
  },
  {
   "cell_type": "markdown",
   "metadata": {},
   "source": [
    "### Linear model should not have const column but OLS model should have const column"
   ]
  },
  {
   "cell_type": "code",
   "execution_count": 377,
   "metadata": {},
   "outputs": [],
   "source": [
    "x_train_l=x_train.drop(columns=[\"const\"])\n",
    "x_test_l=x_test.drop(columns=[\"const\"])"
   ]
  },
  {
   "cell_type": "markdown",
   "metadata": {},
   "source": [
    "### Linear Regression model"
   ]
  },
  {
   "cell_type": "code",
   "execution_count": 379,
   "metadata": {},
   "outputs": [
    {
     "data": {
      "text/html": [
       "<style>#sk-container-id-3 {color: black;background-color: white;}#sk-container-id-3 pre{padding: 0;}#sk-container-id-3 div.sk-toggleable {background-color: white;}#sk-container-id-3 label.sk-toggleable__label {cursor: pointer;display: block;width: 100%;margin-bottom: 0;padding: 0.3em;box-sizing: border-box;text-align: center;}#sk-container-id-3 label.sk-toggleable__label-arrow:before {content: \"▸\";float: left;margin-right: 0.25em;color: #696969;}#sk-container-id-3 label.sk-toggleable__label-arrow:hover:before {color: black;}#sk-container-id-3 div.sk-estimator:hover label.sk-toggleable__label-arrow:before {color: black;}#sk-container-id-3 div.sk-toggleable__content {max-height: 0;max-width: 0;overflow: hidden;text-align: left;background-color: #f0f8ff;}#sk-container-id-3 div.sk-toggleable__content pre {margin: 0.2em;color: black;border-radius: 0.25em;background-color: #f0f8ff;}#sk-container-id-3 input.sk-toggleable__control:checked~div.sk-toggleable__content {max-height: 200px;max-width: 100%;overflow: auto;}#sk-container-id-3 input.sk-toggleable__control:checked~label.sk-toggleable__label-arrow:before {content: \"▾\";}#sk-container-id-3 div.sk-estimator input.sk-toggleable__control:checked~label.sk-toggleable__label {background-color: #d4ebff;}#sk-container-id-3 div.sk-label input.sk-toggleable__control:checked~label.sk-toggleable__label {background-color: #d4ebff;}#sk-container-id-3 input.sk-hidden--visually {border: 0;clip: rect(1px 1px 1px 1px);clip: rect(1px, 1px, 1px, 1px);height: 1px;margin: -1px;overflow: hidden;padding: 0;position: absolute;width: 1px;}#sk-container-id-3 div.sk-estimator {font-family: monospace;background-color: #f0f8ff;border: 1px dotted black;border-radius: 0.25em;box-sizing: border-box;margin-bottom: 0.5em;}#sk-container-id-3 div.sk-estimator:hover {background-color: #d4ebff;}#sk-container-id-3 div.sk-parallel-item::after {content: \"\";width: 100%;border-bottom: 1px solid gray;flex-grow: 1;}#sk-container-id-3 div.sk-label:hover label.sk-toggleable__label {background-color: #d4ebff;}#sk-container-id-3 div.sk-serial::before {content: \"\";position: absolute;border-left: 1px solid gray;box-sizing: border-box;top: 0;bottom: 0;left: 50%;z-index: 0;}#sk-container-id-3 div.sk-serial {display: flex;flex-direction: column;align-items: center;background-color: white;padding-right: 0.2em;padding-left: 0.2em;position: relative;}#sk-container-id-3 div.sk-item {position: relative;z-index: 1;}#sk-container-id-3 div.sk-parallel {display: flex;align-items: stretch;justify-content: center;background-color: white;position: relative;}#sk-container-id-3 div.sk-item::before, #sk-container-id-3 div.sk-parallel-item::before {content: \"\";position: absolute;border-left: 1px solid gray;box-sizing: border-box;top: 0;bottom: 0;left: 50%;z-index: -1;}#sk-container-id-3 div.sk-parallel-item {display: flex;flex-direction: column;z-index: 1;position: relative;background-color: white;}#sk-container-id-3 div.sk-parallel-item:first-child::after {align-self: flex-end;width: 50%;}#sk-container-id-3 div.sk-parallel-item:last-child::after {align-self: flex-start;width: 50%;}#sk-container-id-3 div.sk-parallel-item:only-child::after {width: 0;}#sk-container-id-3 div.sk-dashed-wrapped {border: 1px dashed gray;margin: 0 0.4em 0.5em 0.4em;box-sizing: border-box;padding-bottom: 0.4em;background-color: white;}#sk-container-id-3 div.sk-label label {font-family: monospace;font-weight: bold;display: inline-block;line-height: 1.2em;}#sk-container-id-3 div.sk-label-container {text-align: center;}#sk-container-id-3 div.sk-container {/* jupyter's `normalize.less` sets `[hidden] { display: none; }` but bootstrap.min.css set `[hidden] { display: none !important; }` so we also need the `!important` here to be able to override the default hidden behavior on the sphinx rendered scikit-learn.org. See: https://github.com/scikit-learn/scikit-learn/issues/21755 */display: inline-block !important;position: relative;}#sk-container-id-3 div.sk-text-repr-fallback {display: none;}</style><div id=\"sk-container-id-3\" class=\"sk-top-container\"><div class=\"sk-text-repr-fallback\"><pre>LinearRegression()</pre><b>In a Jupyter environment, please rerun this cell to show the HTML representation or trust the notebook. <br />On GitHub, the HTML representation is unable to render, please try loading this page with nbviewer.org.</b></div><div class=\"sk-container\" hidden><div class=\"sk-item\"><div class=\"sk-estimator sk-toggleable\"><input class=\"sk-toggleable__control sk-hidden--visually\" id=\"sk-estimator-id-3\" type=\"checkbox\" checked><label for=\"sk-estimator-id-3\" class=\"sk-toggleable__label sk-toggleable__label-arrow\">LinearRegression</label><div class=\"sk-toggleable__content\"><pre>LinearRegression()</pre></div></div></div></div></div>"
      ],
      "text/plain": [
       "LinearRegression()"
      ]
     },
     "execution_count": 379,
     "metadata": {},
     "output_type": "execute_result"
    }
   ],
   "source": [
    "lin_model=LinearRegression()\n",
    "lin_model.fit(x_train_l,y_train_y)"
   ]
  },
  {
   "cell_type": "code",
   "execution_count": 380,
   "metadata": {},
   "outputs": [
    {
     "name": "stdout",
     "output_type": "stream",
     "text": [
      "Coefficients of  features [[-1.44723723  0.65381911 -0.10618753  0.1945049  -0.94023503  1.46367656\n",
      "  -0.24156905 -1.65446153  0.90193539 -1.03219653 -0.80880094  0.57136025\n",
      "  -1.96903078]]\n",
      "Intercept: [0.71514944]\n"
     ]
    }
   ],
   "source": [
    "print(\"Coefficients of  features\",lin_model.coef_)\n",
    "print(\"Intercept:\", lin_model.intercept_)"
   ]
  },
  {
   "cell_type": "code",
   "execution_count": 382,
   "metadata": {},
   "outputs": [
    {
     "name": "stdout",
     "output_type": "stream",
     "text": [
      "Root mean squared error:  0.4737014107767795\n"
     ]
    }
   ],
   "source": [
    "lin_ogpreds=lin_model.predict(x_train_l)\n",
    "print(\"Root mean squared error for same train data: \",np.sqrt(mean_squared_error(y_train_y,lin_ogpreds)))"
   ]
  },
  {
   "cell_type": "code",
   "execution_count": 385,
   "metadata": {},
   "outputs": [
    {
     "name": "stdout",
     "output_type": "stream",
     "text": [
      "Root mean squard for test predictions 21.45978775224371\n"
     ]
    }
   ],
   "source": [
    "ypredstest=lin_model.predict(x_test_l)\n",
    "print(\"Root mean squard for test predictions\",np.sqrt(mean_squared_error(ytest,ypredstest)))"
   ]
  },
  {
   "cell_type": "markdown",
   "metadata": {},
   "source": [
    "#  Stockastic gradient descent"
   ]
  },
  {
   "cell_type": "code",
   "execution_count": 396,
   "metadata": {},
   "outputs": [],
   "source": [
    "#  stockastic gradient descent\n",
    "\n",
    "gd_model=SGDRegressor(max_iter=300).fit(x_train_l,y_train_y)"
   ]
  },
  {
   "cell_type": "code",
   "execution_count": 397,
   "metadata": {},
   "outputs": [
    {
     "name": "stdout",
     "output_type": "stream",
     "text": [
      "Coefficients [-0.1945301   0.31912116 -0.36893502  0.28069906 -0.30721476  0.75607699\n",
      " -0.35327839  0.08734194 -0.12658703 -0.39548735 -0.39232441  0.52248782\n",
      " -0.8312455 ]\n",
      "Intercept [0.20696337]\n"
     ]
    }
   ],
   "source": [
    "print(\"Coefficients\",gd_model.coef_)\n",
    "print(\"Intercept\",gd_model.intercept_)"
   ]
  },
  {
   "cell_type": "code",
   "execution_count": 400,
   "metadata": {},
   "outputs": [
    {
     "name": "stdout",
     "output_type": "stream",
     "text": [
      "RMSE for train predicts 0.5842728403263834\n"
     ]
    }
   ],
   "source": [
    "print(\"RMSE for train predicts\",np.sqrt(mean_squared_error( y_train_y,gd_model.predict(x_train_l))))"
   ]
  },
  {
   "cell_type": "code",
   "execution_count": 402,
   "metadata": {},
   "outputs": [
    {
     "name": "stdout",
     "output_type": "stream",
     "text": [
      "RMSE for test data : 0.765440879948261\n"
     ]
    }
   ],
   "source": [
    "ypreds_sgd= gd_model.predict(x_test_l)\n",
    "\n",
    "print(\"RMSE for test data :\", np.sqrt(mean_squared_error(y_test,ypreds_sgd)))"
   ]
  }
 ],
 "metadata": {
  "kernelspec": {
   "display_name": "project",
   "language": "python",
   "name": "python3"
  },
  "language_info": {
   "codemirror_mode": {
    "name": "ipython",
    "version": 3
   },
   "file_extension": ".py",
   "mimetype": "text/x-python",
   "name": "python",
   "nbconvert_exporter": "python",
   "pygments_lexer": "ipython3",
   "version": "3.8.15"
  },
  "orig_nbformat": 4,
  "vscode": {
   "interpreter": {
    "hash": "7809d956f82bd1fa88b71ab2b928bb4840f879d149603809bcc3faf23857b245"
   }
  }
 },
 "nbformat": 4,
 "nbformat_minor": 2
}
